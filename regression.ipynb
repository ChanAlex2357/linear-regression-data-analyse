{
 "cells": [
  {
   "cell_type": "code",
   "execution_count": 15,
   "metadata": {},
   "outputs": [],
   "source": [
    "import pandas as pd\n",
    "import numpy as np\n"
   ]
  },
  {
   "cell_type": "markdown",
   "metadata": {},
   "source": [
    "# 1 Numerisation des donnees"
   ]
  },
  {
   "cell_type": "markdown",
   "metadata": {},
   "source": [
    "Creation d'un tableau des donees du fichier student-por.csv"
   ]
  },
  {
   "cell_type": "code",
   "execution_count": 16,
   "metadata": {},
   "outputs": [],
   "source": [
    "def load_data_from_csv(csv_path:str):\n",
    "    data = pd.read_csv(csv_path)\n",
    "    return data"
   ]
  },
  {
   "cell_type": "markdown",
   "metadata": {},
   "source": [
    "## Encodage des donnes\n",
    "\n",
    "- [x]1 school (GP = 1 , MS = 2)\n",
    "- [x]2 sex (F = 1 , M = 2)\n",
    "- [x]4 adress (U = 1 , R = 2) \n",
    "- [x]5 famsize (LE3 = 1 , GT3 = 2)\n",
    "- [x]6 Pstatus (T = 1 , A = 2)\n",
    "- [x]9 Mjob & 10 Fjob (\"teacher\" = 1, \n",
    "                    \"health\" = 2,\n",
    "                    \"services\" = 3,\n",
    "                    \"at_home\" = 4,\n",
    "                    \"other\" = 5)\n",
    "- [x]11 reason (\"home\" = 1,\n",
    "            \"reputation\" = 2,\n",
    "            \"course\" = 3,\n",
    "            \"other\" = 4)\n",
    "- [x]12 guardian (\"mother\" = 1,\n",
    "                \"father\" = 2,\n",
    "                \"other\" = 3)\n",
    "- [x]16 schoolsup (yes=1,no=2)\n",
    "- [x]17 famsup (yes=1,no=2)\n",
    "- [x]18 paid (yes=1,no=2)\n",
    "- [x]19 activities (yes=1,no=2)\n",
    "- [x]20 nursery (yes=1,no=2)\n",
    "- [x]21 higher (yes=1,no=2)\n",
    "- [x]22 internet (yes=1,no=2)\n",
    "- [x]23 romantic (yes=1,no=2)\n"
   ]
  },
  {
   "cell_type": "markdown",
   "metadata": {},
   "source": [
    "Fonction d'encodage de donnee"
   ]
  },
  {
   "cell_type": "code",
   "execution_count": 17,
   "metadata": {},
   "outputs": [],
   "source": [
    "''' Permet de faire l'encodage des donnees \n",
    "    ARGS\n",
    "        - data : la liste des donnees\n",
    "        - indexes : la listes des colonnes a encoder\n",
    "        - encode_rules : un dictionaire des regles a suivre pour encodes la valeur des donnees\n",
    "'''\n",
    "def encodage(data,indexes:list,encode_rules):\n",
    "    for i in range(len(data)):\n",
    "        for index in indexes:\n",
    "            value = data.loc[i,index]\n",
    "            try:\n",
    "                value = encode_rules[index][value]\n",
    "            except :\n",
    "                value = encode_rules[value]\n",
    "            data.loc[i,index] = value"
   ]
  },
  {
   "cell_type": "code",
   "execution_count": 18,
   "metadata": {},
   "outputs": [],
   "source": [
    "# encodage(data=students,\n",
    "#          indexes=[\"school\",\n",
    "#                   \"sex\",\n",
    "#                   \"address\",\n",
    "#                   \"famsize\",\n",
    "#                   \"Pstatus\",\n",
    "#                   \"Mjob\",\n",
    "#                   \"Fjob\",\n",
    "#                   \"reason\",\n",
    "#                   \"guardian\",\n",
    "#                   \"schoolsup\",\n",
    "#                   \"famsup\",\n",
    "#                   \"paid\",\n",
    "#                   \"activities\",\n",
    "#                   \"nursery\",\n",
    "#                   \"higher\",\n",
    "#                   \"internet\",\n",
    "#                   \"romantic\"\n",
    "#                 ],\n",
    "#          encode_rules={ 'GP':0 , 'MS':1,# school\n",
    "#                         'F':0 , 'M':1,  # sex\n",
    "#                         'U':0 , 'R':1,   # address\n",
    "#                         'LE3':0 ,'GT3':1, # famsize\n",
    "#                         'T':0 , 'A':1,  # Pstatus\n",
    "#                         'teacher':0,'health':1,'services':2,'at_home':3,\n",
    "#                         'Mjob':{'other':4}, # Mjob\n",
    "#                         'Fjob':{'other':4}, # Fjob\n",
    "#                         \"home\":0,\"reputation\":1,\"course\":2,\n",
    "#                         \"reason\":{\"other\":3},   #reason\n",
    "#                         \"guardian\": {\"mother\":0,\"father\":1,\"other\":2},  # guardian\n",
    "#                         'yes':0,'no':1 \n",
    "#                     }\n",
    "#         )"
   ]
  },
  {
   "cell_type": "markdown",
   "metadata": {},
   "source": [
    "# 2 - Coefficient de correlation\n",
    "\n",
    "\n",
    "r = sum((xi - x)(yi - y)) / sqrt( sum((xi - x)^2) * sum((yi - y)^2) )\n"
   ]
  },
  {
   "cell_type": "code",
   "execution_count": 19,
   "metadata": {},
   "outputs": [],
   "source": [
    "''' Cree un tableau des coefficient de correlations entre 2 ligne de donnee '''\n",
    "def cor_coeff(data,index_x,index_y):\n",
    "    coffs = None\n",
    "    # Recuperation des donnees des colonnes\n",
    "    x_values = data[index_x]\n",
    "    y_values = data[index_y]\n",
    "    # Calculer la moyenne x_bar\n",
    "    x_bar = np.mean(x_values)\n",
    "    # Calculer la moyenne y_bar\n",
    "    y_bar = np.mean(y_values)\n",
    "\n",
    "    numerateur = 0\n",
    "    d_sum1 = 0\n",
    "    d_sum2 = 0\n",
    "\n",
    "    for i in range(len(data)):\n",
    "        calc_x = x_values[i] - x_bar # xi - x\n",
    "        calc_y = y_values[i] - y_bar # yi - y\n",
    "\n",
    "        numerateur += (calc_x*calc_y)\n",
    "        d_sum1 += (calc_x)**2\n",
    "        d_sum2 += (calc_y)**2\n",
    "\n",
    "    return numerateur / np.sqrt((d_sum1)*(d_sum2))\n"
   ]
  },
  {
   "cell_type": "code",
   "execution_count": 20,
   "metadata": {},
   "outputs": [],
   "source": [
    "''' Calcul les coefficients de corelations pour tous les collumns du data '''\n",
    "def cors_coeffs(data):\n",
    "    indexes = data.columns\n",
    "    corr = dict()\n",
    "    for x_index in indexes:\n",
    "        value = dict()\n",
    "        for y_index in indexes:\n",
    "            value.__setitem__(y_index,cor_coeff(data,x_index,y_index))\n",
    "        corr.__setitem__(x_index,value)\n",
    "    return pd.DataFrame(corr) \n"
   ]
  },
  {
   "cell_type": "markdown",
   "metadata": {},
   "source": [
    "Analyser les coefficients de corelation pour decider des colonnes a garder"
   ]
  },
  {
   "cell_type": "markdown",
   "metadata": {},
   "source": [
    "# 3 - Regression lineaire\n",
    "\n",
    "Le but est de trouver une relation explicative entre une colonne Y et le reste des variales X\n",
    "\n",
    "## Modelisation du probleme\n",
    "\n",
    "Tena tanjona mahazo droite anakiray otriotrinzao :\n",
    "$${\n",
    "    y_i = a_0 + a_1 X_{i,1} + a_2 X_{i,2} + . . . + a_p X_{i,p} + ε_i ,\\space\\space\n",
    "i = 1, . . . , n\n",
    "}$$\n",
    "Fa probleme anzay droite anakiray tokony mampety ny ligne de donees rehetra zay mety misy erreur\n",
    "\n",
    "Supposons hananana valeur a0,...,ap donc hananana le droite\n",
    "\n",
    "Rah tsy hanana le droite de inona tanjona?\n",
    "Ahoana ny isafidianana anle droite tsara , minimiser le plus possible les erreurs soit faire en sorte que la somme des erreurs soit egale a 0 en choisissant les estimateurs b = a_chapeau\n",
    "$${\n",
    "    t_i = b_0 + b_1 X_{i,1} + b_2 X_{i,2} + . . . + b_p X_{i,p} + ε_i ,\\space\\space\n",
    "i = 1, . . . , n\n",
    "}$$\n",
    "\n",
    "enfaite l'erreur peut etre formaliser comme tel :\n",
    "\n",
    "$${ ε_i ≡ y_i − ŷ_i }$$\n",
    "\n",
    "et donc minimiser cette erreur revient a faire son optimisation\n",
    "\n",
    "Apres certaines demonstration on arrive a :\n",
    " \n",
    "\n"
   ]
  },
  {
   "cell_type": "markdown",
   "metadata": {},
   "source": [
    "### Calcul des estimateurs de moindre carre\n",
    "\n",
    "$${A = (X^TX)^{-1}  X^TY}$$"
   ]
  },
  {
   "cell_type": "code",
   "execution_count": 21,
   "metadata": {},
   "outputs": [],
   "source": [
    "''' Determiner les coefficients de la droite de regression \n",
    "entre des donnees explicatifs et des donnees a expliquer avec\n",
    "A = inv(Xt.X).Xt.Y\n",
    "    ARGS \n",
    "        X : les valeurs explicatifs\n",
    "        Y : les valeurs a expliques\n",
    "    RETURN\n",
    "        A les coefficients de la droite de regression\n",
    "'''\n",
    "def get_coeff_lineaire(x:pd.DataFrame,y:pd.DataFrame):\n",
    "    # Calcul de la transposer de x\n",
    "    xt = np.transpose(x)\n",
    "    # Calcul de Xt.X\n",
    "    xt_x = xt.dot(x)\n",
    "    # Calcul de inv(Xt.X)\n",
    "    xt_x = xt_x.astype(float)\n",
    "    inv = np.linalg.inv(xt_x.values)\n",
    "    inverse = pd.DataFrame(inv,xt_x.columns,xt_x.index)\n",
    "    # Calcul de Xt.Y\n",
    "    xt_y = xt.dot(y)\n",
    "    # Calucul inv(Xt.X).Xt.Y\n",
    "    a = inverse.dot(xt_y)\n",
    "    return a\n",
    "\n",
    "''' Determiner les coefficients de la droite de regresseion pour une colonne a expliquer specifier \n",
    "    ARGS    \n",
    "        data\n",
    "'''\n",
    "def reg_model(data:pd.DataFrame , index):\n",
    "    X = data.drop(index, axis='columns')\n",
    "    # Création d'une colonne de 1s\n",
    "    colonne_de_1s = np.ones((X.shape[0],1))\n",
    "    # Ajout de la colonne de 1s à la matrice X\n",
    "    X = pd.DataFrame(np.hstack((colonne_de_1s, X)))\n",
    "    Y = pd.DataFrame(data[index])\n",
    "    model= get_coeff_lineaire(X,Y)\n",
    "    return model"
   ]
  },
  {
   "cell_type": "markdown",
   "metadata": {},
   "source": [
    "### Calcul du coefficient de determination\n",
    "\n",
    "- [x] calcul de  scr\n",
    "    - scr = sum (yi - yi_ )^2\n",
    "- [x] calcul de sce\n",
    "    - sce = sum((yi)^2 - y_bar)\n",
    "- [x] calcul de sct = sce + scr\n",
    "- [x] calcul de r2 = sce/sct "
   ]
  },
  {
   "cell_type": "code",
   "execution_count": 22,
   "metadata": {},
   "outputs": [],
   "source": [
    "''' Permet de faire l'estimation ou prediction d'une colonne avec un model de regression '''\n",
    "def get_estimation_lineaire(data:pd.DataFrame,index,model):\n",
    "    estimations = list()\n",
    "    # Les coefficents estimateur pour la doite \n",
    "    coeffs = model\n",
    "    X = data.drop(index, axis='columns')\n",
    "    for i in range(len(data)):\n",
    "        yi = coeffs[index][0]\n",
    "        j = 1\n",
    "        for j_index in X.columns:\n",
    "            xij =  data[j_index][i]\n",
    "            yi += coeffs[index][j]*xij\n",
    "            j+=1\n",
    "        estimations.append(yi)\n",
    "    \n",
    "    return pd.DataFrame({index:estimations})"
   ]
  },
  {
   "cell_type": "code",
   "execution_count": 23,
   "metadata": {},
   "outputs": [],
   "source": [
    "''' Determine le coefficient de determination pour connaitre la force du pouvoir predictif du model'''\n",
    "def det_coeff(data:pd.DataFrame,index,model):\n",
    "    Y = pd.DataFrame(data[index])\n",
    "    # Creation de la matrice y des valeurs estimees\n",
    "    y = get_estimation_lineaire(data,index,model)\n",
    "    # Calcul des sommes\n",
    "    scr = 0\n",
    "    sce = 0\n",
    "    y_bar = np.mean(Y.values)\n",
    "    for i in range(len(data)):\n",
    "        # Calcul de scr\n",
    "        scr += (Y[index][i] - y[index][i])**2\n",
    "        # Calcul de sce\n",
    "        sce += ((y[index][i])**2 - y_bar)\n",
    "    sct = scr + sce\n",
    "    \n",
    "    r2 = sce/sct\n",
    "    return r2\n",
    "# det_coeff(students,\"G3\")"
   ]
  },
  {
   "cell_type": "markdown",
   "metadata": {},
   "source": [
    "# 4 - Test\n",
    "\n",
    "Cree une fonction qui teste la variance des erreurs des donnees\n",
    "\n",
    "f(data , pourcentage , cible)\n",
    "\n",
    "- [x] separer les donnee\n",
    "    - [x] shuffle le data\n",
    "    - [x] utiliser les  pourcentage data pour le coeff de determination\n",
    "    - [x] utiliser le reste pour determiner les coefficients de corelations\n",
    "- [x] toruver les coeffs de corelation\n",
    "- [x] eliminer les colonnes qui sont pas tres en corelation\n",
    "- [x] trouver le coeff de deterination"
   ]
  },
  {
   "cell_type": "code",
   "execution_count": 24,
   "metadata": {},
   "outputs": [],
   "source": [
    "''' Analyse le tableau des coefficients de corelation et determine a partir de cor_min les variables a \n",
    "    garder pour un index specifier\n",
    "    ARGS\n",
    "        data : la liste des donnees\n",
    "        cor_coeffs : les coefficients de corelations\n",
    "        index : le nom du colonne / variable de reference\n",
    "        cor_min : le barem a suivre >=(+/-)corcor_min\n",
    "    RETURN\n",
    "        un tableau des donnees avec uniquement les variables colineaires entre-elles\n",
    "'''\n",
    "def cor_indexes( data:pd.DataFrame , cor_coeffs:pd.DataFrame , index:str , cor_min:float):\n",
    "    # Recuperation des coefficients pour l'Index\n",
    "    coeffs = cor_coeffs[index]\n",
    "    # Cree une variable d'iteration des resultats\n",
    "    result = data\n",
    "    # Pour tout les indexes possibles on compare sa coefficent de corelastion\n",
    "    # coeff <cor_min < \n",
    "    for variable in data.columns:\n",
    "        coeff = cor_coeffs[index][variable]\n",
    "        if ((coeff > -cor_min) and (coeff < cor_min) ):\n",
    "            result = result.drop(variable,axis='columns')\n",
    "    return result \n"
   ]
  },
  {
   "cell_type": "code",
   "execution_count": 25,
   "metadata": {},
   "outputs": [],
   "source": [
    "def data_sum_error(data:pd.DataFrame , index:str , model):\n",
    "    Y = pd.DataFrame(data[index])\n",
    "    y = get_estimation_lineaire(data,index,model)\n",
    "\n",
    "    result = 0\n",
    "    for i in range(len(data)):\n",
    "        result += (Y[index][i] - y[index][i])**2\n",
    "    return result"
   ]
  },
  {
   "cell_type": "code",
   "execution_count": 31,
   "metadata": {},
   "outputs": [
    {
     "name": "stdout",
     "output_type": "stream",
     "text": [
      "MODEL \n",
      "           G3\n",
      "0   1.036005\n",
      "1  -0.390918\n",
      "2   -0.04447\n",
      "3   0.003184\n",
      "4  -0.160023\n",
      "5   0.278539\n",
      "6   0.012595\n",
      "7   0.114219\n",
      "8   0.001654\n",
      "9   0.076725\n",
      "10  0.175558\n",
      "11  0.326535\n",
      "12  0.521019\n",
      "13 -0.020549\n",
      "14 -0.080107\n",
      "15 -0.018036\n",
      "16 -0.022232\n",
      "17 -0.143157\n",
      "18  0.174108\n",
      "19  0.838774\n"
     ]
    },
    {
     "data": {
      "text/plain": [
       "199.70675252253778"
      ]
     },
     "execution_count": 31,
     "metadata": {},
     "output_type": "execute_result"
    }
   ],
   "source": [
    "'''Fonction de test la qualite de la regression'''\n",
    "def test(data:pd.DataFrame , pourcentage:float , cible:str ):\n",
    "    # Separation des donnees\n",
    "    shuffled_data   = data.sample(frac=1).reset_index(drop=True)\n",
    "    # Calcul du nombre de lignes à conserver pour l'échantillon\n",
    "    nombre_lignes_x = int(len(shuffled_data) * pourcentage)\n",
    "    # Sélection des premières lignes pour former l'échantillon\n",
    "    test_data = shuffled_data.iloc[:nombre_lignes_x]\n",
    "    # Le reste des lignes forme l'échantillon de test\n",
    "    coeff_data = shuffled_data.iloc[nombre_lignes_x:].reset_index(drop=True)\n",
    "    # Determiner les coefficients de corelation selon les donees selectionnees\n",
    "    corelation_coeffs = cors_coeffs(coeff_data)\n",
    "    # Garder que les colonnes en corelation avec la cibl\n",
    "    test_data = cor_indexes(data=test_data,\n",
    "                            cor_coeffs=corelation_coeffs,\n",
    "                            index=cible,\n",
    "                            cor_min=0.1)\n",
    "    model = reg_model(test_data,cible)\n",
    "    print(\"MODEL \\n\",model)\n",
    "    residu_sum = data_sum_error(test_data,cible,model) \n",
    "    return residu_sum\n",
    "\n",
    "\n",
    "students = load_data_from_csv(\"3_donnees_student/student-por.csv\")\n",
    "encodage(data=students,\n",
    "         indexes=[\"school\",\n",
    "                  \"sex\",\n",
    "                  \"address\",\n",
    "                  \"famsize\",\n",
    "                  \"Pstatus\",\n",
    "                  \"Mjob\",\n",
    "                  \"Fjob\",\n",
    "                  \"reason\",\n",
    "                  \"guardian\",\n",
    "                  \"schoolsup\",\n",
    "                  \"famsup\",\n",
    "                  \"paid\",\n",
    "                  \"activities\",\n",
    "                  \"nursery\",\n",
    "                  \"higher\",\n",
    "                  \"internet\",\n",
    "                  \"romantic\"\n",
    "                ],\n",
    "         encode_rules={ 'GP':0 , 'MS':1,# school\n",
    "                        'F':0 , 'M':1,  # sex\n",
    "                        'U':0 , 'R':1,   # address\n",
    "                        'LE3':0 ,'GT3':1, # famsize\n",
    "                        'T':0 , 'A':1,  # Pstatus\n",
    "                        'teacher':0,'health':1,'services':2,'at_home':3,\n",
    "                        'Mjob':{'other':4}, # Mjob\n",
    "                        'Fjob':{'other':4}, # Fjob\n",
    "                        \"home\":0,\"reputation\":1,\"course\":2,\n",
    "                        \"reason\":{\"other\":3},   #reason\n",
    "                        \"guardian\": {\"mother\":0,\"father\":1,\"other\":2},  # guardian\n",
    "                        'yes':0,'no':1 \n",
    "                    }\n",
    "        )\n",
    "test(students,0.25,\"G3\")"
   ]
  }
 ],
 "metadata": {
  "kernelspec": {
   "display_name": "Python 3 (ipykernel)",
   "language": "python",
   "name": "python3"
  },
  "language_info": {
   "codemirror_mode": {
    "name": "ipython",
    "version": 3
   },
   "file_extension": ".py",
   "mimetype": "text/x-python",
   "name": "python",
   "nbconvert_exporter": "python",
   "pygments_lexer": "ipython3",
   "version": "3.10.12"
  }
 },
 "nbformat": 4,
 "nbformat_minor": 4
}
